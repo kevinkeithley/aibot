{
 "cells": [
  {
   "cell_type": "code",
   "execution_count": 1,
   "id": "d762feed-a001-4688-8ede-04d29ea176d5",
   "metadata": {},
   "outputs": [],
   "source": [
    "import openai\n",
    "from dotenv import load_dotenv\n",
    "import os\n",
    "import psycopg2"
   ]
  },
  {
   "cell_type": "code",
   "execution_count": 2,
   "id": "aab5ea26-f708-41a6-9051-07e42526ae46",
   "metadata": {},
   "outputs": [
    {
     "name": "stdout",
     "output_type": "stream",
     "text": [
      "Connected to PostreSQL database successfully!\n",
      "PostgreSQL Version: PostgreSQL 16.4 (Ubuntu 16.4-0ubuntu0.24.04.2) on x86_64-pc-linux-gnu, compiled by gcc (Ubuntu 13.2.0-23ubuntu4) 13.2.0, 64-bit\n"
     ]
    }
   ],
   "source": [
    "# load environment variables from .env file\n",
    "load_dotenv()\n",
    "\n",
    "# get ChatGPT key\n",
    "openai.api_key = os.getenv(\"OPENAI_API_KEY\")\n",
    "\n",
    "# get database configuration\n",
    "db_config = {\n",
    "    \"host\": os.getenv(\"DB_HOST\"),\n",
    "    \"database\": os.getenv(\"DB_NAME\"),\n",
    "    \"user\": os.getenv(\"DB_USER\"),\n",
    "    \"password\": os.getenv(\"DB_PASSWORD\")\n",
    "}\n",
    "\n",
    "# test db connection\n",
    "try:\n",
    "    conn = psycopg2.connect(**db_config)\n",
    "    cursor = conn.cursor()\n",
    "\n",
    "    # try query\n",
    "    cursor.execute(\"SELECT version();\")\n",
    "    version = cursor.fetchone()\n",
    "\n",
    "    print(\"Connected to PostreSQL database successfully!\")\n",
    "    print(\"PostgreSQL Version:\", version[0])\n",
    "\n",
    "    # close connecton\n",
    "    cursor.close()\n",
    "    conn.close()\n",
    "\n",
    "except Exception as e:\n",
    "    print(\"Failed to connect to the PostreSQL database.\")\n",
    "    print(\"Error:\", e)"
   ]
  },
  {
   "cell_type": "code",
   "execution_count": 3,
   "id": "f809e7dd-1777-48b3-8d12-e1b6999f10d1",
   "metadata": {},
   "outputs": [],
   "source": [
    "client = openai.OpenAI()"
   ]
  },
  {
   "cell_type": "code",
   "execution_count": 4,
   "id": "f7e167c8-d29a-4666-9516-f03ebafc369c",
   "metadata": {},
   "outputs": [],
   "source": [
    "system_prompt = \"You are a helpful assistant who keeps responses as short as possible\""
   ]
  },
  {
   "cell_type": "code",
   "execution_count": 5,
   "id": "2410100d-31dd-45c1-9ee5-7b0bc70e3498",
   "metadata": {},
   "outputs": [],
   "source": [
    "def complete(messages):\n",
    "    completion = client.chat.completions.create(\n",
    "        model = \"gpt-4o-mini\",\n",
    "        messages = messages,\n",
    "        temperature = 0,\n",
    "        max_tokens = 200,\n",
    "        )\n",
    "    return completion"
   ]
  },
  {
   "cell_type": "code",
   "execution_count": 6,
   "id": "4bd97bb5-828d-4196-93bd-a36443b43f57",
   "metadata": {},
   "outputs": [],
   "source": [
    "class Assistant:\n",
    "    def __init__(self):\n",
    "        self.messages = [\n",
    "            # initialize list of messages with system prompt\n",
    "            {\"role\": \"system\", \"content\": system_prompt}\n",
    "        ]        \n",
    "\n",
    "    def query(self, prompt):\n",
    "        # add user prompt to messages\n",
    "        self.messages.append(\n",
    "            {\"role\": \"user\", \"content\": prompt}\n",
    "        )\n",
    "\n",
    "        # query API\n",
    "        completion = complete(self.messages)\n",
    "\n",
    "        # get content\n",
    "        content = completion.choices[0].message.content\n",
    "\n",
    "        # add response to messages\n",
    "        self.messages.append(\n",
    "            {\"role\": \"assistant\", \"content\": content}\n",
    "        )\n",
    "\n",
    "        # print content\n",
    "        print(content)"
   ]
  },
  {
   "cell_type": "code",
   "execution_count": 7,
   "id": "b5e98d5a-ddc4-4c8f-aee2-332e1c8e0641",
   "metadata": {},
   "outputs": [],
   "source": [
    "bot = Assistant()"
   ]
  },
  {
   "cell_type": "code",
   "execution_count": 8,
   "id": "4775ea8f-ca38-4981-8c5c-61a87e261be2",
   "metadata": {},
   "outputs": [
    {
     "name": "stdout",
     "output_type": "stream",
     "text": [
      "1. **JavaScript Fundamentals**: Understand ES6+ features like arrow functions, destructuring, and modules.\n",
      "\n",
      "2. **JSX Syntax**: Learn how to write HTML-like syntax in JavaScript.\n",
      "\n",
      "3. **Components**: Grasp functional and class components, props, and state management.\n",
      "\n",
      "4. **Hooks**: Familiarize yourself with built-in hooks like `useState` and `useEffect`.\n",
      "\n",
      "5. **Component Lifecycle**: Understand lifecycle methods in class components and effects in functional components.\n",
      "\n",
      "6. **Routing**: Learn to use React Router for navigation.\n",
      "\n",
      "7. **State Management**: Explore context API, Redux, or other state management libraries.\n",
      "\n",
      "8. **API Integration**: Practice fetching data from APIs using `fetch` or Axios.\n",
      "\n",
      "9. **Styling**: Get comfortable with CSS-in-JS, styled-components, or traditional CSS.\n",
      "\n",
      "10. **Testing**: Learn testing frameworks like Jest and React Testing Library.\n",
      "\n",
      "11. **Build Projects**:\n"
     ]
    }
   ],
   "source": [
    "bot.query(\"What are the keys to learning React?\")"
   ]
  },
  {
   "cell_type": "code",
   "execution_count": 9,
   "id": "4b645827-fdc5-4f0e-86c5-1183f84c2e5f",
   "metadata": {},
   "outputs": [
    {
     "name": "stdout",
     "output_type": "stream",
     "text": [
      "1. **Set Up Django REST Framework**: Create a Django project and set up the REST framework to build APIs.\n",
      "\n",
      "2. **Create API Endpoints**: Define serializers and views to expose your data through RESTful endpoints.\n",
      "\n",
      "3. **CORS Configuration**: Use `django-cors-headers` to allow your React app to communicate with the Django backend.\n",
      "\n",
      "4. **Fetch Data in React**: Use `fetch` or Axios in your React components to call the Django API endpoints.\n",
      "\n",
      "5. **State Management**: Store fetched data in React state or use context/Redux for global state management.\n",
      "\n",
      "6. **Handle Authentication**: Implement token-based authentication (e.g., JWT) for secure API access.\n",
      "\n",
      "7. **Error Handling**: Manage API response errors in your React app to improve user experience.\n",
      "\n",
      "8. **Optimize Performance**: Use React's memoization techniques and Django's pagination for efficient data handling.\n",
      "\n",
      "9. **Deploy**: Consider deploying Django and React separately or\n"
     ]
    }
   ],
   "source": [
    "bot.query(\"Upon learning these, how to best combine with the django rest framework?\")"
   ]
  },
  {
   "cell_type": "code",
   "execution_count": null,
   "id": "2678d102-dda8-4fb5-ad74-261fc7059f4b",
   "metadata": {},
   "outputs": [],
   "source": []
  }
 ],
 "metadata": {
  "kernelspec": {
   "display_name": "Python 3 (ipykernel)",
   "language": "python",
   "name": "python3"
  },
  "language_info": {
   "codemirror_mode": {
    "name": "ipython",
    "version": 3
   },
   "file_extension": ".py",
   "mimetype": "text/x-python",
   "name": "python",
   "nbconvert_exporter": "python",
   "pygments_lexer": "ipython3",
   "version": "3.12.4"
  }
 },
 "nbformat": 4,
 "nbformat_minor": 5
}
