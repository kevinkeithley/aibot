{
 "cells": [
  {
   "cell_type": "code",
   "execution_count": 1,
   "id": "d762feed-a001-4688-8ede-04d29ea176d5",
   "metadata": {},
   "outputs": [],
   "source": [
    "import openai\n",
    "from dotenv import load_dotenv\n",
    "import os\n",
    "import psycopg2\n",
    "import uuid\n",
    "import tiktoken"
   ]
  },
  {
   "cell_type": "code",
   "execution_count": 2,
   "id": "aab5ea26-f708-41a6-9051-07e42526ae46",
   "metadata": {},
   "outputs": [],
   "source": [
    "# Load environment variables from .env file\n",
    "load_dotenv()\n",
    "\n",
    "# Get ChatGPT key and create client\n",
    "openai.api_key = os.getenv(\"OPENAI_API_KEY\")\n",
    "client = openai.OpenAI()\n",
    "\n",
    "# Get database configuration\n",
    "db_config = {\n",
    "    \"host\": os.getenv(\"DB_HOST\"),\n",
    "    \"database\": os.getenv(\"DB_NAME\"),\n",
    "    \"user\": os.getenv(\"DB_USER\"),\n",
    "    \"password\": os.getenv(\"DB_PASSWORD\")\n",
    "}\n",
    "\n",
    "# Define configuration variables for API call\n",
    "completion_config = {\n",
    "    \"GPT_MODEL\": \"gpt-4o-mini\", # Required\n",
    "    \"TEMPERATURE\": 0,\n",
    "    \"MAX_TOKENS\": 500,\n",
    "    \"MAX_INPUT_TOKENS\": 8000, # Adjust based on the model's token limit, not passed to API\n",
    "}"
   ]
  },
  {
   "cell_type": "code",
   "execution_count": 3,
   "id": "42e91da7-78c4-41b5-a1f7-698e308ed7fa",
   "metadata": {},
   "outputs": [
    {
     "name": "stdout",
     "output_type": "stream",
     "text": [
      "PostgreSQL Version: PostgreSQL 16.4 (Ubuntu 16.4-0ubuntu0.24.04.2) on x86_64-pc-linux-gnu, compiled by gcc (Ubuntu 13.2.0-23ubuntu4) 13.2.0, 64-bit\n"
     ]
    }
   ],
   "source": [
    "# test db connection\n",
    "with psycopg2.connect(**db_config) as conn:\n",
    "    with conn.cursor() as cursor:\n",
    "        cursor.execute(\"SELECT version();\")\n",
    "        version = cursor.fetchone()\n",
    "        print(\"PostgreSQL Version:\", version[0])"
   ]
  },
  {
   "cell_type": "code",
   "execution_count": 4,
   "id": "4bd97bb5-828d-4196-93bd-a36443b43f57",
   "metadata": {},
   "outputs": [],
   "source": [
    "class Assistant:\n",
    "    def __init__(self, config):\n",
    "        \"\"\"\n",
    "        Initialize the Assistant with required and optional parameters for the config\n",
    "\n",
    "        Args:\n",
    "            config (dict): Configuration dictionary with required keys:\n",
    "                - 'GPT_MODEL': eg. 'gpt-4o-mini'\n",
    "            Optional keys:\n",
    "                - 'TEMPERATURE': The temperature for the model (default 0)\n",
    "                - 'MAX_TOKENS': Maximum tokens for completion (default 500)\n",
    "                - 'MAX_INPUT_TOKENS': Used internally to check token limits (default 8000)\n",
    "        \"\"\"\n",
    "        # Required parameter\n",
    "        self.model = config.get(\"GPT_MODEL\")\n",
    "        if not self.model:\n",
    "            raise ValueError(\"GPT_MODEL is required in the configuration\")\n",
    "\n",
    "        # Optional parameters with defaults\n",
    "        self.config = {\n",
    "            \"temperature\": config.get(\"TEMPERATURE\", 0),\n",
    "            \"max_tokens\": config.get(\"MAX_TOKENS\", 500),\n",
    "            \"max_input_tokens\": config.get(\"MAX_INPUT_TOKENS\", 8000),\n",
    "        }\n",
    "\n",
    "        # Include any additional optional parameters\n",
    "        self.extra_config = {k: v for k, v in config.items() if k not in [\"GPT_MODEL\", \"TEMPERATURE\", \"MAX_TOKENS\", \"MAX_INPUT_TOKENS\"]}\n",
    "\n",
    "        self.session_id = None\n",
    "        self.messages = []\n",
    "        self.start_new_session()\n",
    "\n",
    "    def start_new_session(self):\n",
    "        \"\"\"Start a new session with a unique session ID.\"\"\"\n",
    "        self.session_id = str(uuid.uuid4())\n",
    "        print(f\"Started a new session with ID: {self.session_id}\")\n",
    "\n",
    "    def create_conversation(self, user_id, system_prompt):\n",
    "        \"\"\"Create a new conversation with the given system prompt\"\"\"\n",
    "        with psycopg2.connect(**db_config) as conn:\n",
    "            with conn.cursor() as cursor:\n",
    "                cursor.execute(\n",
    "                    \"\"\"\n",
    "                    INSERT INTO conversations (user_id, session_id, system_prompt, depth, conv_status)\n",
    "                    VALUES (%s, %s, %s, %s, %s)\n",
    "                    RETURNING id;\n",
    "                    \"\"\",\n",
    "                    (user_id, self.session_id, system_prompt, 0, 'active')\n",
    "                )\n",
    "                conversation_id = cursor.fetchone()[0]\n",
    "                print(f\"Created a new conversation with ID: {conversation_id}\")\n",
    "                return conversation_id\n",
    "\n",
    "    def add_message(self, conversation_id, role, content):\n",
    "        \"\"\"Store a message in the database with accurate token counting.\"\"\"\n",
    "        with psycopg2.connect(**db_config) as conn:\n",
    "            with conn.cursor() as cursor:\n",
    "                # Count tokens using the OpenAI tokenizer\n",
    "                encoding = tiktoken.encoding_for_model(self.model)\n",
    "                token_count = len(encoding.encode(content))\n",
    "\n",
    "                # Insert the message into the database\n",
    "                cursor.execute(\n",
    "                    \"\"\"\n",
    "                    INSERT INTO messages (conversation_id, role, content, token_count)\n",
    "                    VALUES (%s, %s, %s, %s);\n",
    "                    \"\"\",\n",
    "                    (conversation_id, role, content, token_count)\n",
    "                )\n",
    "                print(f\"Added message to conversation {conversation_id} with {token_count} tokens.\")\n",
    "\n",
    "    def load_history(self, conversation_id):\n",
    "        \"\"\"Load the entire message history of a conversation\"\"\"\n",
    "        with psycopg2.connect(**db_config) as conn:\n",
    "            with conn.cursor() as cursor:\n",
    "                cursor.execute(\n",
    "                    \"\"\"\n",
    "                    SELECT role, content FROM messages\n",
    "                    WHERE conversation_id = %s\n",
    "                    ORDER BY id;\n",
    "                    \"\"\",\n",
    "                    (conversation_id,)\n",
    "                )\n",
    "                history = cursor.fetchall()\n",
    "                return [{\"role\": role, \"content\": content} for role, content in history]\n",
    "    \n",
    "    def query(self, conversation_id, user_input):\n",
    "        \"\"\" Handle a user query and make API call.\"\"\"\n",
    "        self.add_message(conversation_id, \"user\", user_input)\n",
    "\n",
    "        # Load the full conversation history\n",
    "        self.messages = self.load_history(conversation_id)\n",
    "        \n",
    "        # Query the API\n",
    "        try:\n",
    "            completion = client.chat.completions.create(\n",
    "                model = self.model,\n",
    "                messages = self.messages,\n",
    "                temperature = self.config['temperature'],\n",
    "                max_tokens = self.config['max_tokens'],\n",
    "                **self.extra_config, # Pass dynamic parameters\n",
    "            )\n",
    "            content = completion.choices[0].message.content\n",
    "\n",
    "            # Add the assistant's response to the message history\n",
    "            self.add_message(conversation_id, \"assistant\", content)\n",
    "            print(content)\n",
    "            return content\n",
    "        \n",
    "        except openai.OpenAIError as e:    \n",
    "            print(\"Error during API call:\", e)\n",
    "            return None\n",
    "\n",
    "    def replay_with_modified_prompt(self, conversation_id, new_system_prompt, user_id):\n",
    "        \"\"\"Replay the conversation history with a new system prompt\"\"\"\n",
    "        # Load the original conversation history\n",
    "        history = self.load_history(conversation_id)\n",
    "\n",
    "        # Create a new conversation under the current session\n",
    "        new_conversation_id = self.create_conversation(user_id, new_system_prompt)\n",
    "\n",
    "        # Add the new system prompt\n",
    "        self.add_message(new_conversation_id, \"system\", new_system_prompt)\n",
    "\n",
    "        # Replay user messages with the new system prompt\n",
    "        for message in history:\n",
    "            if message[\"role\"] == \"user\":\n",
    "                user_input = message[\"content\"]\n",
    "                self.query(new_conversation_id, user_input)\n",
    "\n",
    "        print(f\"Replayed conversation created with ID: {new_conversation_id}\")\n",
    "        return new_conversation_id\n",
    "        "
   ]
  },
  {
   "cell_type": "code",
   "execution_count": 5,
   "id": "b5e98d5a-ddc4-4c8f-aee2-332e1c8e0641",
   "metadata": {
    "scrolled": true
   },
   "outputs": [
    {
     "name": "stdout",
     "output_type": "stream",
     "text": [
      "Started a new session with ID: f1305b8c-63f0-4801-86a5-82f962fee6d1\n"
     ]
    }
   ],
   "source": [
    "bot = Assistant(completion_config)"
   ]
  },
  {
   "cell_type": "code",
   "execution_count": 6,
   "id": "2678d102-dda8-4fb5-ad74-261fc7059f4b",
   "metadata": {},
   "outputs": [],
   "source": [
    "user = 'Test'\n",
    "prompt = 'You are a helpful assistant who keeps answers short'"
   ]
  },
  {
   "cell_type": "code",
   "execution_count": 7,
   "id": "9adfc871-bdaa-458e-8cec-c7f683786a22",
   "metadata": {},
   "outputs": [
    {
     "name": "stdout",
     "output_type": "stream",
     "text": [
      "Created a new conversation with ID: 9\n"
     ]
    }
   ],
   "source": [
    "id = bot.create_conversation(user, prompt)"
   ]
  },
  {
   "cell_type": "code",
   "execution_count": 8,
   "id": "aef2df32-74e8-4e10-8335-6c765c8e9a9b",
   "metadata": {
    "scrolled": true
   },
   "outputs": [
    {
     "name": "stdout",
     "output_type": "stream",
     "text": [
      "Added message to conversation 9 with 11 tokens.\n",
      "Added message to conversation 9 with 500 tokens.\n",
      "Machine learning is a vast and rapidly evolving field, encompassing a wide range of topics. Here are some of the most important and foundational topics in machine learning:\n",
      "\n",
      "1. **Supervised Learning**:\n",
      "   - **Regression**: Techniques for predicting continuous outcomes (e.g., linear regression, polynomial regression).\n",
      "   - **Classification**: Methods for categorizing data into discrete classes (e.g., logistic regression, decision trees, support vector machines, neural networks).\n",
      "\n",
      "2. **Unsupervised Learning**:\n",
      "   - **Clustering**: Grouping similar data points (e.g., k-means, hierarchical clustering, DBSCAN).\n",
      "   - **Dimensionality Reduction**: Techniques for reducing the number of features (e.g., PCA, t-SNE, UMAP).\n",
      "\n",
      "3. **Reinforcement Learning**:\n",
      "   - Understanding how agents learn to make decisions by interacting with an environment (e.g., Q-learning, deep reinforcement learning).\n",
      "\n",
      "4. **Deep Learning**:\n",
      "   - Neural networks and their architectures (e.g., convolutional neural networks for image processing, recurrent neural networks for sequence data).\n",
      "   - Advanced topics like transfer learning, generative adversarial networks (GANs), and attention mechanisms.\n",
      "\n",
      "5. **Model Evaluation and Selection**:\n",
      "   - Techniques for assessing model performance (e.g., cross-validation, confusion matrix, ROC curves).\n",
      "   - Metrics for regression and classification (e.g., accuracy, precision, recall, F1 score).\n",
      "\n",
      "6. **Feature Engineering**:\n",
      "   - Techniques for selecting, transforming, and creating features to improve model performance.\n",
      "\n",
      "7. **Overfitting and Regularization**:\n",
      "   - Understanding the trade-off between bias and variance, and techniques to prevent overfitting (e.g., L1/L2 regularization, dropout).\n",
      "\n",
      "8. **Ensemble Methods**:\n",
      "   - Combining multiple models to improve performance (e.g., bagging, boosting, stacking).\n",
      "\n",
      "9. **Natural Language Processing (NLP)**:\n",
      "   - Techniques for processing and analyzing text data (e.g., tokenization, word embeddings, transformers).\n",
      "\n",
      "10. **Computer Vision**:\n",
      "    - Techniques for analyzing and interpreting visual data (e.g., image classification, object detection, segmentation).\n",
      "\n",
      "11. **Ethics and Fairness in Machine Learning**:\n",
      "    - Understanding the ethical implications of machine learning, including bias, fairness, and accountability.\n",
      "\n",
      "12. **Deployment and Productionization**:\n",
      "    - Best practices for deploying machine learning models in real-world applications, including\n"
     ]
    },
    {
     "data": {
      "text/plain": [
       "'Machine learning is a vast and rapidly evolving field, encompassing a wide range of topics. Here are some of the most important and foundational topics in machine learning:\\n\\n1. **Supervised Learning**:\\n   - **Regression**: Techniques for predicting continuous outcomes (e.g., linear regression, polynomial regression).\\n   - **Classification**: Methods for categorizing data into discrete classes (e.g., logistic regression, decision trees, support vector machines, neural networks).\\n\\n2. **Unsupervised Learning**:\\n   - **Clustering**: Grouping similar data points (e.g., k-means, hierarchical clustering, DBSCAN).\\n   - **Dimensionality Reduction**: Techniques for reducing the number of features (e.g., PCA, t-SNE, UMAP).\\n\\n3. **Reinforcement Learning**:\\n   - Understanding how agents learn to make decisions by interacting with an environment (e.g., Q-learning, deep reinforcement learning).\\n\\n4. **Deep Learning**:\\n   - Neural networks and their architectures (e.g., convolutional neural networks for image processing, recurrent neural networks for sequence data).\\n   - Advanced topics like transfer learning, generative adversarial networks (GANs), and attention mechanisms.\\n\\n5. **Model Evaluation and Selection**:\\n   - Techniques for assessing model performance (e.g., cross-validation, confusion matrix, ROC curves).\\n   - Metrics for regression and classification (e.g., accuracy, precision, recall, F1 score).\\n\\n6. **Feature Engineering**:\\n   - Techniques for selecting, transforming, and creating features to improve model performance.\\n\\n7. **Overfitting and Regularization**:\\n   - Understanding the trade-off between bias and variance, and techniques to prevent overfitting (e.g., L1/L2 regularization, dropout).\\n\\n8. **Ensemble Methods**:\\n   - Combining multiple models to improve performance (e.g., bagging, boosting, stacking).\\n\\n9. **Natural Language Processing (NLP)**:\\n   - Techniques for processing and analyzing text data (e.g., tokenization, word embeddings, transformers).\\n\\n10. **Computer Vision**:\\n    - Techniques for analyzing and interpreting visual data (e.g., image classification, object detection, segmentation).\\n\\n11. **Ethics and Fairness in Machine Learning**:\\n    - Understanding the ethical implications of machine learning, including bias, fairness, and accountability.\\n\\n12. **Deployment and Productionization**:\\n    - Best practices for deploying machine learning models in real-world applications, including'"
      ]
     },
     "execution_count": 8,
     "metadata": {},
     "output_type": "execute_result"
    }
   ],
   "source": [
    "bot.query(id, \"What are some of the most important topics in machine learning\")"
   ]
  },
  {
   "cell_type": "code",
   "execution_count": null,
   "id": "c5dc5bb3-8837-498e-859b-849b4d99a126",
   "metadata": {},
   "outputs": [],
   "source": []
  }
 ],
 "metadata": {
  "kernelspec": {
   "display_name": "Python 3 (ipykernel)",
   "language": "python",
   "name": "python3"
  },
  "language_info": {
   "codemirror_mode": {
    "name": "ipython",
    "version": 3
   },
   "file_extension": ".py",
   "mimetype": "text/x-python",
   "name": "python",
   "nbconvert_exporter": "python",
   "pygments_lexer": "ipython3",
   "version": "3.12.4"
  }
 },
 "nbformat": 4,
 "nbformat_minor": 5
}
